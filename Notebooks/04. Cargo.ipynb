{
 "cells": [
  {
   "cell_type": "code",
   "execution_count": null,
   "metadata": {
    "vscode": {
     "languageId": "rust"
    }
   },
   "outputs": [],
   "source": [
    "/* --------------------------------------------------------------------------\n",
    "    Course: Rust-101\n",
    "    Chapter: 01\n",
    "    Title: What is Rust Programming Language\n",
    "    \n",
    "    Author: Dr Saad laouadi\n",
    "   -------------------------------------------------------------------------- */ "
   ]
  },
  {
   "cell_type": "markdown",
   "metadata": {},
   "source": [
    "# What is `Cargo`\n",
    "\n",
    "`Cargo` is the official package manager and build tool for the Rust programming language. It is an indispensable tool for Rust developers, designed to simplify and streamline the development process by managing dependencies, compiling code, and automating many common tasks. `Cargo` plays a central role in making Rust development efficient and developer-friendly.\n",
    "\n"
   ]
  },
  {
   "cell_type": "markdown",
   "metadata": {},
   "source": [
    "## Main Functionalities of Cargo\n",
    "\n",
    "1. **Dependency Management:** Cargo simplifies the management of project dependencies. It helps you specify external libraries or crates your project relies on and automatically fetches, builds, and links these dependencies. This ensures that your project can easily and reliably use third-party code.\n",
    "\n",
    "2. **Build System:** Cargo provides a robust and efficient build system for Rust projects. It automatically compiles your code, generates binaries or libraries, and handles complex build tasks, including incremental compilation to speed up development.\n",
    "\n",
    "3. **Project Initialization:** Cargo can create new Rust projects with a simple command. It sets up the necessary project structure, including source code, manifest files, and a default main.rs or lib.rs file.\n",
    "\n",
    "4. **Testing:** Cargo simplifies testing by providing commands to run unit tests, integration tests, and other types of tests. It allows you to ensure the correctness of your code.\n",
    "\n",
    "5. **Documentation Generation:** It includes tools for generating documentation, making it easy to create and maintain documentation for your project using Rust's built-in documentation comments (doc comments).\n",
    "\n",
    "6. **Publishing Crates:** If you're creating a Rust library, Cargo makes it easy to package and publish your crate to crates.io, the central Rust package registry, so that others can use it in their projects.\n",
    "\n"
   ]
  },
  {
   "cell_type": "markdown",
   "metadata": {},
   "source": [
    "## Using `Cargo` Rust Package Manager\n",
    "\n",
    "## Essential `Cargo` Commands\n",
    "In this section, I will introduce the essential `cargo` command to create and build `Rust` project. Even if you rely on a good IDE (Integrated Development Environemt) such as `IntelliJ Idea`, you still need to fully read this section, since I will explain every command in more detail, so you, as a learner, will fully understand how `Rust` actually works, and eveen compilers use these commands under the hood to compile and run `rust` projects. \n",
    "\n",
    "#### Create Projects\n",
    "To create a new Rust project you can run the following command:\n",
    "```bash\n",
    "cargo new <project-name>\n",
    "```\n",
    "\n",
    "- **Example**: \n",
    "  - Create a project named `hello_project` using `cargo`\n",
    "\n",
    "```bash\n",
    "cargo new hello_project\n",
    "```\n",
    "\n",
    "After creating the project, you can navigate to it and then list its content to see what the `cargo new` command created. Here are the steps to navigate and list the project content (I assume you created the project in the current working directory):\n",
    "\n",
    "```bash\n",
    "# Check where you are if you need to \n",
    "pwd \n",
    "# navigate to the project\n",
    "cd hello_project\n",
    "# List the project content\n",
    "ls -l\n",
    "Cargo.toml src\n",
    "```\n",
    "\n",
    "\n",
    "- A better more comprehensive and user-friendly way to list folders and subfolders in a hierarchical manner in Unix-like systems is the `tree` command. This command provides a clear and structured tree view of directories and subdirectories. (I assume you are familiar with installing new commands)\n",
    "\n",
    "```bash\n",
    "tree hello_project\n",
    "```\n",
    "\n",
    "- here is the output of the `tree` command:\n",
    "```text\n",
    "hello_project\n",
    "├── Cargo.toml\n",
    "└── src\n",
    "    └── main.rs\n",
    "```\n"
   ]
  },
  {
   "cell_type": "markdown",
   "metadata": {},
   "source": [
    "##### Understanding `Cargo.toml` File\n",
    "\n",
    "- The `Cargo.toml` file (toml stands for: **Tom's Optimized Minimal Language**), The file includes: \n",
    "  - `[package]`\n",
    "    - `name`:\n",
    "    - `version`:\n",
    "    - `edition`:\n",
    "  - `[dependencies]` \n",
    "    \n",
    "```text\n",
    "[package]\n",
    "name = \"hello_project\"\n",
    "version = \"0.1.0\"\n",
    "edition = \"2021\"\n",
    "\n",
    "# See more keys and their definitions at https://doc.rust-lang.org/cargo/reference/manifest.html\n",
    "\n",
    "[dependencies]\n",
    "```"
   ]
  },
  {
   "cell_type": "markdown",
   "metadata": {},
   "source": [
    "\n",
    "#### Build Projects\n",
    "cargo build: Build the project, compiling the source code and dependencies.\n",
    "\n",
    "#### Compile Projects\n",
    "cargo run: Compile and run the project.\n",
    "\n",
    "#### Check Projects\n",
    "- `cargo check`: \n",
    "- \n",
    "#### Test Projects\n",
    "cargo test: Run the project's tests.\n",
    "\n",
    "### Advanced `Cargo` Commands\n",
    "\n",
    "#### Document Projects \n",
    "cargo doc: Generate documentation for the project.\n",
    "\n",
    "#### Update Dependencies\n",
    "cargo update: Update dependencies to their latest versions.\n",
    "\n",
    "#### Publish Rust Crate\n",
    "cargo publish: Publish a Rust crate to crates.io.\n",
    "\n",
    "#### Clean \n",
    "cargo clean: Remove build artifacts."
   ]
  }
 ],
 "metadata": {
  "language_info": {
   "name": "python"
  }
 },
 "nbformat": 4,
 "nbformat_minor": 2
}
