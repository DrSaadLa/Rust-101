{
 "cells": [
  {
   "cell_type": "code",
   "execution_count": null,
   "metadata": {
    "vscode": {
     "languageId": "rust"
    }
   },
   "outputs": [],
   "source": [
    "/* --------------------------------------------------------------------------\n",
    "    Course: Rust-101\n",
    "    Chapter: 01\n",
    "    Title: Understanding `Cargo` Rust build tool\n",
    "    \n",
    "    Author: Dr Saad laouadi\n",
    "   -------------------------------------------------------------------------- */ "
   ]
  },
  {
   "cell_type": "markdown",
   "metadata": {},
   "source": [
    "# What is `Cargo`\n",
    "\n",
    "`Cargo` is the official package manager and build tool for the Rust programming language. It is an indispensable tool for Rust developers, designed to simplify and streamline the development process by managing dependencies, compiling code, and automating many common tasks. `Cargo` plays a central role in making Rust development efficient and developer-friendly.\n",
    "\n"
   ]
  },
  {
   "cell_type": "markdown",
   "metadata": {},
   "source": [
    "## Main Functionalities of Cargo\n",
    "\n",
    "1. **Dependency Management:** Cargo simplifies the management of project dependencies. It helps you specify external libraries or crates your project relies on and automatically fetches, builds, and links these dependencies. This ensures that your project can easily and reliably use third-party code.\n",
    "\n",
    "2. **Build System:** Cargo provides a robust and efficient build system for Rust projects. It automatically compiles your code, generates binaries or libraries, and handles complex build tasks, including incremental compilation to speed up development.\n",
    "\n",
    "3. **Project Initialization:** Cargo can create new Rust projects with a simple command. It sets up the necessary project structure, including source code, manifest files, and a default main.rs or lib.rs file.\n",
    "\n",
    "4. **Testing:** Cargo simplifies testing by providing commands to run unit tests, integration tests, and other types of tests. It allows you to ensure the correctness of your code.\n",
    "\n",
    "5. **Documentation Generation:** It includes tools for generating documentation, making it easy to create and maintain documentation for your project using Rust's built-in documentation comments (doc comments).\n",
    "\n",
    "6. **Publishing Crates:** If you're creating a Rust library, Cargo makes it easy to package and publish your crate to crates.io, the central Rust package registry, so that others can use it in their projects.\n",
    "\n"
   ]
  },
  {
   "cell_type": "markdown",
   "metadata": {},
   "source": [
    "## Using `Cargo` Rust Package Manager\n",
    "Similar to other programming languages such as C and C++ that use `gcc` and `g++` compilers, `Rust` has its own compilers `rustc`, however, a `Rust` developer uses `cargo` package manager to create, build, check and test ... etc `rust` projects. \n",
    "This section is dedicated to exploring the functionality and power of the Cargo `Rust` package manager\n",
    "\n",
    "## Essential `Cargo` Commands\n",
    "In this section, I will introduce the essential `cargo` commands that are used in creating and building Rust projects. Even if you prefer to work with a sophisticated Integrated Development Environment (IDE) like `IntelliJ IDEA` or `Eclipse`, understanding these fundamental commands is essential, and I recommend to fully read this section since I will explain every command in more detail.\n",
    "\n",
    "This knowledge not only helps to navigate and control `Rust` projects more efficiently but also provides insights into how `Rust` compilation and execution work under the hood. By the end of this section, you will have a deep understanding of the building blocks that drive Rust development and the tools used by compilers behind the scenes."
   ]
  },
  {
   "cell_type": "markdown",
   "metadata": {},
   "source": [
    "\n",
    "#### Create Projects\n",
    "To create a new Rust project you can run the following command:\n",
    "```bash\n",
    "cargo new <project-name>\n",
    "```\n",
    "\n",
    "- **Example**: \n",
    "  - Create a project named `hello_project` using `cargo`\n",
    "\n",
    "```bash\n",
    "cargo new hello_project\n",
    "```\n",
    "\n",
    "After creating the project, you can navigate to it and then list its content to see what the `cargo new` command created. Here are the steps to navigate and list the project content (I assume you created the project in the current working directory):\n",
    "\n",
    "```bash\n",
    "# Check where you are if you need to \n",
    "pwd \n",
    "# navigate to the project\n",
    "cd hello_project\n",
    "# List the project content\n",
    "ls -l\n",
    "Cargo.toml src\n",
    "```\n",
    "\n",
    "- A better more comprehensive and user-friendly way to list folders and subfolders in a hierarchical manner in Unix-like systems is the `tree` command. This command provides a clear and structured tree view of directories and subdirectories. (I assume you are familiar with installing new commands)\n",
    "\n",
    "```bash\n",
    "tree hello_project\n",
    "```\n",
    "\n",
    "- here is the output of the `tree` command:\n",
    "```text\n",
    "hello_project\n",
    "├── Cargo.toml\n",
    "└── src\n",
    "    └── main.rs\n",
    "```\n",
    "In fact, the command `cargo new` also  generate `git` folder and `.gitignore` file, to show all the content, I used the command `tree -a` (the `-a` flag is used to show all files).\n",
    "\n",
    "```bash\n",
    "tree -a\n",
    "```\n",
    "\n",
    "```text\n",
    ".\n",
    "├── .git\n",
    "│   ├── HEAD\n",
    "│   ├── config\n",
    "│   ├── description\n",
    "│   ├── hooks\n",
    "│   │   └── README.sample\n",
    "│   ├── info\n",
    "│   │   └── exclude\n",
    "│   ├── objects\n",
    "│   │   ├── info\n",
    "│   │   └── pack\n",
    "│   └── refs\n",
    "│       ├── heads\n",
    "│       └── tags\n",
    "├── .gitignore\n",
    "├── Cargo.toml\n",
    "└── src\n",
    "    └── main.rs\n",
    "```\n",
    "\n",
    "### Understanding the `src` Folder\n"
   ]
  },
  {
   "cell_type": "markdown",
   "metadata": {},
   "source": [
    "##### Understand The Packaging File `Cargo.toml` \n",
    "\n",
    "- The `Cargo.toml` file (toml stands for: **Tom's Optimized Minimal Language**), The file includes: \n",
    "  - `[package]`\n",
    "    - `name`: The package name\n",
    "    - `version`: The version\n",
    "    - `edition`: The edition\n",
    "  - `[dependencies]` \n",
    "    \n",
    "```text\n",
    "[package]\n",
    "name = \"hello_project\"\n",
    "version = \"0.1.0\"\n",
    "edition = \"2021\"\n",
    "\n",
    "# See more keys and their definitions at https://doc.rust-lang.org/cargo/reference/manifest.html\n",
    "\n",
    "[dependencies]\n",
    "```"
   ]
  },
  {
   "cell_type": "markdown",
   "metadata": {},
   "source": [
    "\n",
    "#### Build Projects\n",
    "cargo build: Build the project, compiling the source code and dependencies.\n",
    "\n",
    "#### Compile Projects\n",
    "cargo run: Compile and run the project.\n",
    "\n",
    "#### Check Projects\n",
    "- `cargo check`: \n",
    "- \n",
    "#### Test Projects\n",
    "cargo test: Run the project's tests.\n",
    "\n",
    "### Advanced `Cargo` Commands\n",
    "\n",
    "#### Document Projects \n",
    "cargo doc: Generate documentation for the project.\n",
    "\n",
    "#### Update Dependencies\n",
    "cargo update: Update dependencies to their latest versions.\n",
    "\n",
    "#### Publish Rust Crate\n",
    "cargo publish: Publish a Rust crate to crates.io.\n",
    "\n",
    "#### Clean \n",
    "cargo clean: Remove build artifacts."
   ]
  },
  {
   "cell_type": "markdown",
   "metadata": {},
   "source": [
    "## How IDE Compiles `Rust` Project\n",
    "\n",
    "Usually projects are created and manipulated using an Integrated Development Environment (IDE) that provides a user-friendly and productive environment for software development. Even you may not need to understand the neaty-greety details of how IDEs work, I wanted to add this section to solidify the knowledge aquired from the previous sections. I will explain the general way of how an IDE works in terms of compiling `Rust` programs.\n",
    "\n",
    "An IDE typically interacts with the Rust compiler `(rustc)` and other underlying tools to simplify the compilation process for the developer. Here's a high-level explanation of how an IDE works under the hood when compiling Rust programs:\n",
    "\n",
    "1. **Code Editor and Autocompletion:** The IDE provides a code editor with syntax highlighting and autocompletion features. As you type code, the IDE's language server or code analysis component helps you by suggesting code completions, function signatures, and highlighting errors.\n",
    "2. **Project Management:** The IDE manages a `Rust` project, including the directory structure, source files, and dependencies. It uses the project configuration files (`Cargo.toml` for Rust projects) to keep track of dependencies and build settings.\n",
    "3. **Intelligent Build System:** The IDE's build system integrates with the Rust build tool, `Cargo`, to compile the code. It can also create build tasks and execute them when saving source files. The build system ensures that only the necessary files are recompiled, improving build performance.\n",
    "4. **Error Reporting:** When a compilation error occurs, the IDE captures the compiler's output and presents it in a user-friendly way. It highlights errors in the code editor, offers suggestions for fixing issues, and displays the compiler's error messages with additional context."
   ]
  },
  {
   "cell_type": "markdown",
   "metadata": {},
   "source": [
    "## A Good Integrated Development Environment\n",
    "\n",
    "Selecting an IDE is usually straightforward for experienced programmers. However, for novice developers, the abundance of both free and commercial IDEs can be overwhelming. I've added this section to help beginners choose a suitable IDE.\n",
    "\n",
    "### A Good IDE's Features\n",
    "\n",
    "An IDE simplifies Rust development by providing a range of tools and features that streamline the coding, building, and debugging processes. It acts as a user-friendly interface to the Rust toolchain, allowing developers to focus on writing high-quality code while automating many of the routine tasks involved in software development. \n",
    "\n",
    "\n",
    "1. **Running and Debugging:** An IDE that allows to run `Rust` programs directly from the environment. It also manages the process of running code and provides debugging features like breakpoints, variable inspection, and step-by-step execution.\n",
    "\n",
    "2. **Code Navigation and Refactoring:** You can navigate through your codebase and perform refactoring tasks easily within the IDE. It helps you find function definitions, references, and rename variables or functions with minimal effort.\n",
    "\n",
    "3. **Version Control Integration:** Many IDEs offer built-in support for version control systems like Git. You can commit changes, view diffs, and push code to a repository directly from the IDE.\n",
    "\n",
    "4. **Extension Support:** IDEs often support extensions or plugins that enhance their functionality. For Rust development, you can find extensions that offer additional features, such as enhanced linting, documentation lookup, or integration with other development tools.\n",
    "\n",
    "5. **Intelligent Code Analysis:** IDEs can perform static code analysis to identify issues in your code, such as unused variables, code style violations, and security vulnerabilities. This helps you write cleaner, more robust code.\n",
    "\n",
    "6. **Customization:** IDEs provide customization options, allowing you to configure your development environment to your preferences. You can set code formatting rules, choose coding styles, and adjust other settings."
   ]
  }
 ],
 "metadata": {
  "language_info": {
   "name": "python"
  }
 },
 "nbformat": 4,
 "nbformat_minor": 2
}
