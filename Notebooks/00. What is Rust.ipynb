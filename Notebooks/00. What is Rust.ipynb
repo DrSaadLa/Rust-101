{
 "cells": [
  {
   "cell_type": "code",
   "execution_count": null,
   "metadata": {
    "vscode": {
     "languageId": "rust"
    }
   },
   "outputs": [],
   "source": [
    "/* --------------------------------------------------------------------------\n",
    "    Course: Rust-101\n",
    "    Chapter: 01\n",
    "    Title: What is Rust Programming Language\n",
    "    \n",
    "    Author: Dr Saad laouadi\n",
    "   -------------------------------------------------------------------------- */ "
   ]
  },
  {
   "cell_type": "markdown",
   "metadata": {},
   "source": [
    "# What is Rust Programming Language?\n",
    "\n",
    "Rust is a multi-paradigm, general-purpose programming language designed for performance and safety, especially safe concurrency. Rust is syntactically similar to C++, but can guarantee memory safety by using a borrow checker that verifies that all references to data are valid. Rust is also designed to be expressive and ergonomic, making it a good choice for a wide range of applications.\n",
    "\n",
    "\n",
    "## Rust Key Features\n",
    "\n",
    "Some of the key features of Rust include:\n",
    "\n",
    "1. **Memory safety:** Rust guarantees memory safety by using a borrow checker to verify that all references to data are valid. This prevents common memory safety bugs such as dangling pointers and memory leaks.\n",
    "2. **Performance:** Rust code is typically compiled to very efficient machine code, making it comparable in performance to C and C++.\n",
    "3. **Concurrency:** Rust has built-in support for concurrency, making it easy to write safe and efficient concurrent code.\n",
    "4. **Expressiveness and ergonomics:** Rust is designed to be expressive and ergonomic, making it easy to write code that is both readable and maintainable.\n",
    "\n",
    "## Where Rust is Used?\n",
    "\n",
    "Rust is a relatively new language, but it has quickly gained popularity due to its unique combination of features. Rust is used in a wide range of applications, including web development, systems programming, game development, and embedded systems.\n",
    "\n",
    "Here are some examples of popular projects and companies that use Rust:\n",
    "\n",
    "1. **Web development:** Firefox, Rocket, Actix Web\n",
    "2. **Systems programming:** Redox OS, Servo, Rust compiler\n",
    "3. **Game development:** Bevy, Amethyst, Godot\n",
    "4. **Embedded systems:** Zephyr RTOS, NuttX RTOS, Tock OS"
   ]
  },
  {
   "cell_type": "markdown",
   "metadata": {},
   "source": [
    "## Where to Learn More About Rust?\n",
    "\n",
    "If you are interested in learning more about Rust, there are many resources available online and in libraries. You can also find a helpful community of Rust developers on the Rust website and on various social media platforms\n",
    "\n",
    "**Sources**\n",
    "1. [Rust official Documentation](https://www.rust-lang.org/learn)"
   ]
  },
  {
   "cell_type": "markdown",
   "metadata": {},
   "source": []
  }
 ],
 "metadata": {
  "language_info": {
   "name": "python"
  }
 },
 "nbformat": 4,
 "nbformat_minor": 2
}
