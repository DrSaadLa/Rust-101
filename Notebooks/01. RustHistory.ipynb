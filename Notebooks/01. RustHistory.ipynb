{
 "cells": [
  {
   "cell_type": "markdown",
   "metadata": {},
   "source": [
    "# Rust History\n",
    "\n",
    "Rust was first announced and the development work began in 2006 by Graydon Hoare. However, it was officially introduced as a Mozilla Research project in 2010. \n",
    "\n",
    "It has since undergone significant development and reached version 1.0, the first stable release, in May 2015. The language has continued to evolve and gain popularity as a systems programming language known for its safety, speed, and concurrency features."
   ]
  }
 ],
 "metadata": {
  "kernelspec": {
   "display_name": "Rust",
   "language": "rust",
   "name": "rust"
  },
  "language_info": {
   "name": "rust"
  }
 },
 "nbformat": 4,
 "nbformat_minor": 2
}
