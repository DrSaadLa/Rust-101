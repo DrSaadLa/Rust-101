{
 "cells": [
  {
   "cell_type": "markdown",
   "metadata": {},
   "source": [
    "# Jupyter Notebook Setup for `Rust`\n",
    "\n",
    "Creating a Jupyter Notebook for Rust requires installing specific tools, such as `evcxr_jupyter`, which I have described in [setup file](../Setup/setup.md). Once you have it installed, you can create a Jupyter Notebook with Rust code. \n",
    "\n",
    "1. First, make sure you have evcxr_jupyter installed. If not, follow the instructions in the previous response.\n",
    "\n",
    "2. Start a Jupyter Notebook or Jupyter lab server by running the following command in your terminal (or command prompt on windows):\n",
    "\n",
    "```bash\n",
    "jupyter lab\n",
    "```\n",
    "\n",
    "3. You can use Jupyter lab desktop application if you have already installed it. \n",
    "4. In your web browser, open Jupyter Notebook, and navigate to the directory where you want to create the new Rust notebook.\n",
    "\n",
    "5. Click \"New\" and select \"Rust\" to create a new Rust notebook.\n",
    "\n",
    "5. You'll see a cell where you can enter Rust code. Enter the following code to print \"Hello, World!\" in Rust:\n"
   ]
  },
  {
   "cell_type": "markdown",
   "metadata": {},
   "source": [
    "## Hello World Program\n",
    "\n",
    "Here's a simple \"Hello, World!\" notebook:\n",
    "\n",
    "```rust\n",
    "fn main() {\n",
    "    println!(\"Hello, World!\");\n",
    "}\n",
    "// Call main()\n",
    "main()\n",
    "```\n",
    "\n",
    "1. To run the code in the cell, press Shift+Enter or click the \"Run\" button.\n",
    "\n",
    "2. You should see the output \"Hello, World!\" displayed below the cell."
   ]
  },
  {
   "cell_type": "code",
   "execution_count": null,
   "metadata": {},
   "outputs": [],
   "source": []
  }
 ],
 "metadata": {
  "kernelspec": {
   "display_name": "Rust",
   "language": "rust",
   "name": "rust"
  },
  "language_info": {
   "name": "rust"
  }
 },
 "nbformat": 4,
 "nbformat_minor": 2
}
